{
  "nbformat": 4,
  "nbformat_minor": 0,
  "metadata": {
    "colab": {
      "name": "Untitled0.ipynb",
      "provenance": [],
      "authorship_tag": "ABX9TyOb2Q7wp8EZ3+1n/ZMpw/go",
      "include_colab_link": true
    },
    "kernelspec": {
      "name": "python3",
      "display_name": "Python 3"
    }
  },
  "cells": [
    {
      "cell_type": "markdown",
      "metadata": {
        "id": "view-in-github",
        "colab_type": "text"
      },
      "source": [
        "<a href=\"https://colab.research.google.com/github/ReutRosenwasser90/LearnPython/blob/master/Untitled0.ipynb\" target=\"_parent\"><img src=\"https://colab.research.google.com/assets/colab-badge.svg\" alt=\"Open In Colab\"/></a>"
      ]
    },
    {
      "cell_type": "markdown",
      "metadata": {
        "id": "qPrL2yfWIipQ"
      },
      "source": [
        "Write a program to display the first and last colors from a created list."
      ]
    },
    {
      "cell_type": "code",
      "metadata": {
        "colab": {
          "base_uri": "https://localhost:8080/"
        },
        "id": "63tOZCNkIZAs",
        "outputId": "9a541faa-57e8-41a4-a980-0dd8c4391f14"
      },
      "source": [
        "MyList = ['Bob', 'Dana', 'Frank', 'David', 'Steve']\r\n",
        "dis = [MyList[0], MyList[4]]\r\n",
        "print(str(dis))"
      ],
      "execution_count": 2,
      "outputs": [
        {
          "output_type": "stream",
          "text": [
            "['Bob', 'Steve']\n"
          ],
          "name": "stdout"
        }
      ]
    },
    {
      "cell_type": "markdown",
      "metadata": {
        "id": "Mo8o4MRMJnJl"
      },
      "source": [
        "2.\tWrite a program to calculate number of days between two dates."
      ]
    },
    {
      "cell_type": "code",
      "metadata": {
        "colab": {
          "base_uri": "https://localhost:8080/"
        },
        "id": "KKY-7B4mJnwL",
        "outputId": "54bb5e04-acb3-47a9-8733-e9c29a972dcf"
      },
      "source": [
        "import datetime\r\n",
        "from datetime import date\r\n",
        "date1 = date(2020,1,15)\r\n",
        "date2 = date(2021,1,15)\r\n",
        "numOfdays = date2 - date1 \r\n",
        "print(numOfdays.days)"
      ],
      "execution_count": 5,
      "outputs": [
        {
          "output_type": "stream",
          "text": [
            "366\n"
          ],
          "name": "stdout"
        }
      ]
    },
    {
      "cell_type": "markdown",
      "metadata": {
        "id": "774s7rJ8LcbU"
      },
      "source": [
        "3.\tWrite a program to get the volume of a sphere with radius 6. \r\n",
        "volume = 4/3*(pi)*r^3"
      ]
    },
    {
      "cell_type": "code",
      "metadata": {
        "colab": {
          "base_uri": "https://localhost:8080/"
        },
        "id": "VVDBPN0kKmz6",
        "outputId": "6e2a028a-1428-45d6-ae30-ea5ebc87606b"
      },
      "source": [
        "import math\r\n",
        "r = 6\r\n",
        "vol = (4/3)*(math.pi)*(r**3)\r\n",
        "print(vol)"
      ],
      "execution_count": 7,
      "outputs": [
        {
          "output_type": "stream",
          "text": [
            "904.7786842338603\n"
          ],
          "name": "stdout"
        }
      ]
    },
    {
      "cell_type": "code",
      "metadata": {
        "id": "b6wWLDVuLooz"
      },
      "source": [
        ""
      ],
      "execution_count": null,
      "outputs": []
    }
  ]
}